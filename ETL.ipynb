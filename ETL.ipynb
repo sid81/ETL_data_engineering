{
 "cells": [
  {
   "cell_type": "code",
   "execution_count": 1,
   "id": "cd31bf4c",
   "metadata": {},
   "outputs": [],
   "source": [
    "import mysql.connector\n",
    "\n",
    "conn=mysql.connector.connect(host='localhost',\n",
    "                             user='root',\n",
    "                             password=\"*********\",\n",
    "                            database='new_pythondatabase')\n"
   ]
  },
  {
   "cell_type": "code",
   "execution_count": 2,
   "id": "d3b178d4",
   "metadata": {},
   "outputs": [
    {
     "name": "stdout",
     "output_type": "stream",
     "text": [
      "12\n"
     ]
    }
   ],
   "source": [
    "print(conn.connection_id)"
   ]
  },
  {
   "cell_type": "code",
   "execution_count": 3,
   "id": "b20015ed",
   "metadata": {},
   "outputs": [
    {
     "name": "stdout",
     "output_type": "stream",
     "text": [
      "<mysql.connector.connection_cext.CMySQLConnection object at 0x000001BFC58FBB20>\n"
     ]
    }
   ],
   "source": [
    "print(conn)"
   ]
  },
  {
   "cell_type": "code",
   "execution_count": 4,
   "id": "6eb7ee63",
   "metadata": {},
   "outputs": [],
   "source": [
    "cur=conn.cursor()"
   ]
  },
  {
   "cell_type": "code",
   "execution_count": 5,
   "id": "d9cf26db",
   "metadata": {},
   "outputs": [],
   "source": [
    "cur.execute(\"use new_pythondatabase\")"
   ]
  },
  {
   "cell_type": "code",
   "execution_count": 6,
   "id": "f414fb82",
   "metadata": {},
   "outputs": [],
   "source": [
    "s=\"create table book (id int,name varchar(20),price float(5,2));\""
   ]
  },
  {
   "cell_type": "code",
   "execution_count": 7,
   "id": "852f0644",
   "metadata": {},
   "outputs": [],
   "source": [
    "s1=\"insert into book values(%s,%s,%s)\"\n",
    "b1=(1,'python3',50)\n",
    "cur.execute(s1,b1)\n",
    "conn.commit()"
   ]
  },
  {
   "cell_type": "code",
   "execution_count": 8,
   "id": "69ee0bd9",
   "metadata": {},
   "outputs": [],
   "source": [
    "\n",
    "s=\"insert into book values(%s,%s,%s)\"\n",
    "b1=(1,'python3',50)\n",
    "cur.execute(s,b1)\n",
    "conn.commit()"
   ]
  },
  {
   "cell_type": "code",
   "execution_count": 9,
   "id": "3b168673",
   "metadata": {},
   "outputs": [],
   "source": [
    "s=\"insert into book values(%s,%s,%s)\"\n",
    "b1=(2,'java',70)\n",
    "cur.execute(s,b1)\n",
    "conn.commit()"
   ]
  },
  {
   "cell_type": "code",
   "execution_count": 10,
   "id": "04fb1cc5",
   "metadata": {},
   "outputs": [
    {
     "name": "stdout",
     "output_type": "stream",
     "text": [
      "(1, 'python3', 60.0)\n",
      "(1, 'python3', 60.0)\n",
      "(2, 'java', 80.0)\n",
      "(1, 'python3', 50.0)\n",
      "(1, 'python3', 50.0)\n",
      "(2, 'java', 70.0)\n"
     ]
    }
   ],
   "source": [
    "s=\"select * from book\"\n",
    "cur.execute(s)\n",
    "result=cur.fetchall()\n",
    "for rec in result:\n",
    "    print(rec)"
   ]
  },
  {
   "cell_type": "code",
   "execution_count": 11,
   "id": "0fca8cd0",
   "metadata": {},
   "outputs": [],
   "source": [
    "s=\"update book set price=price+10\"\n",
    "cur.execute(s)\n",
    "conn.commit()\n",
    "\n"
   ]
  },
  {
   "cell_type": "code",
   "execution_count": 12,
   "id": "54b4c8fd",
   "metadata": {},
   "outputs": [
    {
     "name": "stdout",
     "output_type": "stream",
     "text": [
      "(1, 'python3', 70.0)\n",
      "(1, 'python3', 70.0)\n",
      "(2, 'java', 90.0)\n",
      "(1, 'python3', 60.0)\n",
      "(1, 'python3', 60.0)\n",
      "(2, 'java', 80.0)\n"
     ]
    }
   ],
   "source": [
    "s=\"select * from book\"\n",
    "cur.execute(s)\n",
    "result=cur.fetchall()\n",
    "for rec in result:\n",
    "    print(rec)"
   ]
  },
  {
   "cell_type": "code",
   "execution_count": 13,
   "id": "1a05f499",
   "metadata": {},
   "outputs": [],
   "source": [
    "cur.close()\n",
    "conn.close()"
   ]
  },
  {
   "cell_type": "code",
   "execution_count": null,
   "id": "946d53a3",
   "metadata": {},
   "outputs": [],
   "source": []
  }
 ],
 "metadata": {
  "kernelspec": {
   "display_name": "Python 3 (ipykernel)",
   "language": "python",
   "name": "python3"
  },
  "language_info": {
   "codemirror_mode": {
    "name": "ipython",
    "version": 3
   },
   "file_extension": ".py",
   "mimetype": "text/x-python",
   "name": "python",
   "nbconvert_exporter": "python",
   "pygments_lexer": "ipython3",
   "version": "3.9.7"
  }
 },
 "nbformat": 4,
 "nbformat_minor": 5
}
